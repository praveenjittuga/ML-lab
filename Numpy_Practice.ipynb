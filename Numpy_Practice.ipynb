{
  "nbformat": 4,
  "nbformat_minor": 0,
  "metadata": {
    "colab": {
      "name": "Numpy Practice.ipynb",
      "provenance": [],
      "authorship_tag": "ABX9TyMk2+uh7h+oGFZdxr0r5i3k",
      "include_colab_link": true
    },
    "kernelspec": {
      "name": "python3",
      "display_name": "Python 3"
    }
  },
  "cells": [
    {
      "cell_type": "markdown",
      "metadata": {
        "id": "view-in-github",
        "colab_type": "text"
      },
      "source": [
        "<a href=\"https://colab.research.google.com/github/praveenjittuga/ML-lab/blob/master/Numpy_Practice.ipynb\" target=\"_parent\"><img src=\"https://colab.research.google.com/assets/colab-badge.svg\" alt=\"Open In Colab\"/></a>"
      ]
    },
    {
      "cell_type": "code",
      "metadata": {
        "id": "1-bESP4v0ht6",
        "colab_type": "code",
        "colab": {}
      },
      "source": [
        "import numpy as np\n"
      ],
      "execution_count": 0,
      "outputs": []
    },
    {
      "cell_type": "markdown",
      "metadata": {
        "id": "IxnSnbBt04IT",
        "colab_type": "text"
      },
      "source": [
        "diff b/w list and numpy array lsit can store different type of data that is [int,float,string]. arrray can store same daya type of data that is [1,2,3,4]\n"
      ]
    },
    {
      "cell_type": "code",
      "metadata": {
        "id": "afCsHXuA07xq",
        "colab_type": "code",
        "colab": {
          "base_uri": "https://localhost:8080/",
          "height": 51
        },
        "outputId": "93f552a6-1398-44f5-fc91-2795e13ef4b3"
      },
      "source": [
        "a = np.array([[3,6,9,12],[15,18,21,24]],dtype=\"int\")\n",
        "a/3"
      ],
      "execution_count": 2,
      "outputs": [
        {
          "output_type": "execute_result",
          "data": {
            "text/plain": [
              "array([[1., 2., 3., 4.],\n",
              "       [5., 6., 7., 8.]])"
            ]
          },
          "metadata": {
            "tags": []
          },
          "execution_count": 2
        }
      ]
    },
    {
      "cell_type": "code",
      "metadata": {
        "id": "QiWa4AJC1AkT",
        "colab_type": "code",
        "colab": {
          "base_uri": "https://localhost:8080/",
          "height": 180
        },
        "outputId": "870e2bbc-0022-4789-e812-08d1fc0dbba3"
      },
      "source": [
        "list1 = [2,4,6,8]\n",
        "list1/2"
      ],
      "execution_count": 3,
      "outputs": [
        {
          "output_type": "error",
          "ename": "TypeError",
          "evalue": "ignored",
          "traceback": [
            "\u001b[0;31m---------------------------------------------------------------------------\u001b[0m",
            "\u001b[0;31mTypeError\u001b[0m                                 Traceback (most recent call last)",
            "\u001b[0;32m<ipython-input-3-b27a5ff39723>\u001b[0m in \u001b[0;36m<module>\u001b[0;34m()\u001b[0m\n\u001b[1;32m      1\u001b[0m \u001b[0mlist1\u001b[0m \u001b[0;34m=\u001b[0m \u001b[0;34m[\u001b[0m\u001b[0;36m2\u001b[0m\u001b[0;34m,\u001b[0m\u001b[0;36m4\u001b[0m\u001b[0;34m,\u001b[0m\u001b[0;36m6\u001b[0m\u001b[0;34m,\u001b[0m\u001b[0;36m8\u001b[0m\u001b[0;34m]\u001b[0m\u001b[0;34m\u001b[0m\u001b[0;34m\u001b[0m\u001b[0m\n\u001b[0;32m----> 2\u001b[0;31m \u001b[0mlist1\u001b[0m\u001b[0;34m/\u001b[0m\u001b[0;36m2\u001b[0m\u001b[0;34m\u001b[0m\u001b[0;34m\u001b[0m\u001b[0m\n\u001b[0m",
            "\u001b[0;31mTypeError\u001b[0m: unsupported operand type(s) for /: 'list' and 'int'"
          ]
        }
      ]
    },
    {
      "cell_type": "code",
      "metadata": {
        "id": "x7sQ55791FWA",
        "colab_type": "code",
        "colab": {
          "base_uri": "https://localhost:8080/",
          "height": 34
        },
        "outputId": "c580f894-c21a-4434-d8c0-45570781365d"
      },
      "source": [
        "a=np.arange((10),dtype=\"int\")\n",
        "a"
      ],
      "execution_count": 4,
      "outputs": [
        {
          "output_type": "execute_result",
          "data": {
            "text/plain": [
              "array([0, 1, 2, 3, 4, 5, 6, 7, 8, 9])"
            ]
          },
          "metadata": {
            "tags": []
          },
          "execution_count": 4
        }
      ]
    },
    {
      "cell_type": "code",
      "metadata": {
        "id": "-DpzZTQd1Kum",
        "colab_type": "code",
        "colab": {
          "base_uri": "https://localhost:8080/",
          "height": 34
        },
        "outputId": "e62a8c60-95d4-4c36-bb1b-2cd66f9800a2"
      },
      "source": [
        "a = np.array([1,2,3])\n",
        "a"
      ],
      "execution_count": 5,
      "outputs": [
        {
          "output_type": "execute_result",
          "data": {
            "text/plain": [
              "array([1, 2, 3])"
            ]
          },
          "metadata": {
            "tags": []
          },
          "execution_count": 5
        }
      ]
    },
    {
      "cell_type": "markdown",
      "metadata": {
        "id": "2xYSdvJx1T_K",
        "colab_type": "text"
      },
      "source": [
        "two dimensional array below ex"
      ]
    },
    {
      "cell_type": "code",
      "metadata": {
        "id": "BXw50pLt1Xgn",
        "colab_type": "code",
        "colab": {
          "base_uri": "https://localhost:8080/",
          "height": 51
        },
        "outputId": "cfeda329-88ef-4671-908a-8d219b71447c"
      },
      "source": [
        "a = np.array([[1,2],[2,3]])\n",
        "a"
      ],
      "execution_count": 6,
      "outputs": [
        {
          "output_type": "execute_result",
          "data": {
            "text/plain": [
              "array([[1, 2],\n",
              "       [2, 3]])"
            ]
          },
          "metadata": {
            "tags": []
          },
          "execution_count": 6
        }
      ]
    },
    {
      "cell_type": "markdown",
      "metadata": {
        "id": "Rn-Nr1di1e2S",
        "colab_type": "text"
      },
      "source": [
        "two dimensional array using tuple"
      ]
    },
    {
      "cell_type": "code",
      "metadata": {
        "id": "VVBu2Eav1frd",
        "colab_type": "code",
        "colab": {
          "base_uri": "https://localhost:8080/",
          "height": 51
        },
        "outputId": "d3a89c27-a35a-4784-a433-ad3dbbad0840"
      },
      "source": [
        "a = np.array(((1,2),(2,3)))\n",
        "a"
      ],
      "execution_count": 7,
      "outputs": [
        {
          "output_type": "execute_result",
          "data": {
            "text/plain": [
              "array([[1, 2],\n",
              "       [2, 3]])"
            ]
          },
          "metadata": {
            "tags": []
          },
          "execution_count": 7
        }
      ]
    },
    {
      "cell_type": "markdown",
      "metadata": {
        "id": "ZSW0uhsg1kV7",
        "colab_type": "text"
      },
      "source": [
        "in below example mention the type of data that is int,float,complex...."
      ]
    },
    {
      "cell_type": "code",
      "metadata": {
        "id": "q5ICE9L61nJp",
        "colab_type": "code",
        "colab": {
          "base_uri": "https://localhost:8080/",
          "height": 34
        },
        "outputId": "e52f38c4-113b-474f-f98d-b5932a068df4"
      },
      "source": [
        "a=np.array([2,3],dtype=\"complex\")\n",
        "print(a)"
      ],
      "execution_count": 8,
      "outputs": [
        {
          "output_type": "stream",
          "text": [
            "[2.+0.j 3.+0.j]\n"
          ],
          "name": "stdout"
        }
      ]
    },
    {
      "cell_type": "markdown",
      "metadata": {
        "id": "POjNgqaK1tkk",
        "colab_type": "text"
      },
      "source": [
        "in below example mention ndmin that is ndimensinoal array below exmple output is two dimensional array i mention the ndmin=2 i.e two dimensional... array"
      ]
    },
    {
      "cell_type": "code",
      "metadata": {
        "id": "z10nQbyf1uWB",
        "colab_type": "code",
        "colab": {
          "base_uri": "https://localhost:8080/",
          "height": 34
        },
        "outputId": "d5a1dd3f-41a4-4de5-f4ae-da7cf244b1fd"
      },
      "source": [
        "a=np.array([1,2,3,4],ndmin=2,dtype=\"complex\")\n",
        "print(a)"
      ],
      "execution_count": 9,
      "outputs": [
        {
          "output_type": "stream",
          "text": [
            "[[1.+0.j 2.+0.j 3.+0.j 4.+0.j]]\n"
          ],
          "name": "stdout"
        }
      ]
    },
    {
      "cell_type": "code",
      "metadata": {
        "id": "1EJ-KAH9113R",
        "colab_type": "code",
        "colab": {
          "base_uri": "https://localhost:8080/",
          "height": 34
        },
        "outputId": "668f6297-c2fd-464a-f091-c5e94794ff46"
      },
      "source": [
        "a = np.array([[1,2,3],[4,5,6],[4,8,9]])\n",
        "a.shape"
      ],
      "execution_count": 10,
      "outputs": [
        {
          "output_type": "execute_result",
          "data": {
            "text/plain": [
              "(3, 3)"
            ]
          },
          "metadata": {
            "tags": []
          },
          "execution_count": 10
        }
      ]
    },
    {
      "cell_type": "code",
      "metadata": {
        "id": "TafEykaC180k",
        "colab_type": "code",
        "colab": {
          "base_uri": "https://localhost:8080/",
          "height": 68
        },
        "outputId": "222b66ab-8830-4fd1-c8a9-f11d79ccf6e3"
      },
      "source": [
        "a=np.array([[1,2,3],[4,5,6],[7,8,9]],order=\"c\")\n",
        "a.shape=(3,3)\n",
        "a"
      ],
      "execution_count": 11,
      "outputs": [
        {
          "output_type": "execute_result",
          "data": {
            "text/plain": [
              "array([[1, 2, 3],\n",
              "       [4, 5, 6],\n",
              "       [7, 8, 9]])"
            ]
          },
          "metadata": {
            "tags": []
          },
          "execution_count": 11
        }
      ]
    },
    {
      "cell_type": "code",
      "metadata": {
        "id": "-4HPrAoz2DGX",
        "colab_type": "code",
        "colab": {
          "base_uri": "https://localhost:8080/",
          "height": 136
        },
        "outputId": "ea12eb26-c097-4310-d242-cb3182a4cb28"
      },
      "source": [
        "a=np.arange(24)\n",
        "b=a.reshape(2,3,4)\n",
        "b"
      ],
      "execution_count": 12,
      "outputs": [
        {
          "output_type": "execute_result",
          "data": {
            "text/plain": [
              "array([[[ 0,  1,  2,  3],\n",
              "        [ 4,  5,  6,  7],\n",
              "        [ 8,  9, 10, 11]],\n",
              "\n",
              "       [[12, 13, 14, 15],\n",
              "        [16, 17, 18, 19],\n",
              "        [20, 21, 22, 23]]])"
            ]
          },
          "metadata": {
            "tags": []
          },
          "execution_count": 12
        }
      ]
    },
    {
      "cell_type": "markdown",
      "metadata": {
        "id": "s1sBwIAH2I81",
        "colab_type": "text"
      },
      "source": [
        "arange() creates an array of evenly spaced values..."
      ]
    },
    {
      "cell_type": "code",
      "metadata": {
        "id": "WEEMUymf2Ju3",
        "colab_type": "code",
        "colab": {
          "base_uri": "https://localhost:8080/",
          "height": 34
        },
        "outputId": "2f2e24f7-c3a9-489d-8968-0293492bccda"
      },
      "source": [
        "a = np.arange(1,10,2 )\n",
        "a"
      ],
      "execution_count": 13,
      "outputs": [
        {
          "output_type": "execute_result",
          "data": {
            "text/plain": [
              "array([1, 3, 5, 7, 9])"
            ]
          },
          "metadata": {
            "tags": []
          },
          "execution_count": 13
        }
      ]
    },
    {
      "cell_type": "code",
      "metadata": {
        "id": "6ZdwhZNh2Piq",
        "colab_type": "code",
        "colab": {
          "base_uri": "https://localhost:8080/",
          "height": 68
        },
        "outputId": "27a5290a-ec73-4d54-d04d-7f96a78ac2b4"
      },
      "source": [
        "a = np.arange(20,dtype=\"complex\")\n",
        "a"
      ],
      "execution_count": 14,
      "outputs": [
        {
          "output_type": "execute_result",
          "data": {
            "text/plain": [
              "array([ 0.+0.j,  1.+0.j,  2.+0.j,  3.+0.j,  4.+0.j,  5.+0.j,  6.+0.j,\n",
              "        7.+0.j,  8.+0.j,  9.+0.j, 10.+0.j, 11.+0.j, 12.+0.j, 13.+0.j,\n",
              "       14.+0.j, 15.+0.j, 16.+0.j, 17.+0.j, 18.+0.j, 19.+0.j])"
            ]
          },
          "metadata": {
            "tags": []
          },
          "execution_count": 14
        }
      ]
    },
    {
      "cell_type": "code",
      "metadata": {
        "id": "wS6DcYzZ2UIb",
        "colab_type": "code",
        "colab": {
          "base_uri": "https://localhost:8080/",
          "height": 51
        },
        "outputId": "9d44beda-037a-4481-8374-674342a53f03"
      },
      "source": [
        "a = np.array(((1,2),(2,2)))\n",
        "a"
      ],
      "execution_count": 15,
      "outputs": [
        {
          "output_type": "execute_result",
          "data": {
            "text/plain": [
              "array([[1, 2],\n",
              "       [2, 2]])"
            ]
          },
          "metadata": {
            "tags": []
          },
          "execution_count": 15
        }
      ]
    },
    {
      "cell_type": "markdown",
      "metadata": {
        "id": "Zl8Y9pm-2YAI",
        "colab_type": "text"
      },
      "source": [
        "zero() creates array filled with 0s"
      ]
    },
    {
      "cell_type": "code",
      "metadata": {
        "id": "k2CnPODL2ZN9",
        "colab_type": "code",
        "colab": {
          "base_uri": "https://localhost:8080/",
          "height": 68
        },
        "outputId": "5704525c-330a-45bd-a9c1-08daf1aa2ed7"
      },
      "source": [
        "np.zeros((3,4),dtype=\"int\")"
      ],
      "execution_count": 16,
      "outputs": [
        {
          "output_type": "execute_result",
          "data": {
            "text/plain": [
              "array([[0, 0, 0, 0],\n",
              "       [0, 0, 0, 0],\n",
              "       [0, 0, 0, 0]])"
            ]
          },
          "metadata": {
            "tags": []
          },
          "execution_count": 16
        }
      ]
    },
    {
      "cell_type": "markdown",
      "metadata": {
        "id": "La_YcltL2fvH",
        "colab_type": "text"
      },
      "source": [
        "ones() creates array filled with ones.."
      ]
    },
    {
      "cell_type": "code",
      "metadata": {
        "id": "-vbU3QY02jzA",
        "colab_type": "code",
        "colab": {
          "base_uri": "https://localhost:8080/",
          "height": 68
        },
        "outputId": "0f5b3896-9b38-4dcc-98d1-f7f6bef3be7a"
      },
      "source": [
        "np.ones((3,4),dtype=\"int\")"
      ],
      "execution_count": 17,
      "outputs": [
        {
          "output_type": "execute_result",
          "data": {
            "text/plain": [
              "array([[1, 1, 1, 1],\n",
              "       [1, 1, 1, 1],\n",
              "       [1, 1, 1, 1]])"
            ]
          },
          "metadata": {
            "tags": []
          },
          "execution_count": 17
        }
      ]
    },
    {
      "cell_type": "markdown",
      "metadata": {
        "id": "sfAinX_w2n3H",
        "colab_type": "text"
      },
      "source": [
        "linspace() creates array filled evenly spaced values...."
      ]
    },
    {
      "cell_type": "code",
      "metadata": {
        "id": "kzbf-39h2o0u",
        "colab_type": "code",
        "colab": {
          "base_uri": "https://localhost:8080/",
          "height": 34
        },
        "outputId": "f1614253-840a-463c-b1bd-81927ec7f141"
      },
      "source": [
        "a = np.linspace(5,100,num=5,dtype=\"int\",endpoint=\"false\")\n",
        "a"
      ],
      "execution_count": 18,
      "outputs": [
        {
          "output_type": "execute_result",
          "data": {
            "text/plain": [
              "array([  5,  28,  52,  76, 100])"
            ]
          },
          "metadata": {
            "tags": []
          },
          "execution_count": 18
        }
      ]
    },
    {
      "cell_type": "code",
      "metadata": {
        "id": "Za-Dsf0G2uE8",
        "colab_type": "code",
        "colab": {
          "base_uri": "https://localhost:8080/",
          "height": 102
        },
        "outputId": "08baf53b-f6eb-443f-ae76-128a1dca0708"
      },
      "source": [
        "a = np.linspace(1,1000,dtype=\"int\",num=50)\n",
        "a"
      ],
      "execution_count": 19,
      "outputs": [
        {
          "output_type": "execute_result",
          "data": {
            "text/plain": [
              "array([   1,   21,   41,   62,   82,  102,  123,  143,  164,  184,  204,\n",
              "        225,  245,  266,  286,  306,  327,  347,  367,  388,  408,  429,\n",
              "        449,  469,  490,  510,  531,  551,  571,  592,  612,  633,  653,\n",
              "        673,  694,  714,  734,  755,  775,  796,  816,  836,  857,  877,\n",
              "        898,  918,  938,  959,  979, 1000])"
            ]
          },
          "metadata": {
            "tags": []
          },
          "execution_count": 19
        }
      ]
    },
    {
      "cell_type": "markdown",
      "metadata": {
        "id": "cukF_zVu20cO",
        "colab_type": "text"
      },
      "source": [
        "Linspace() if not mention the num parameter in linspace consider has default num in the example below.."
      ]
    },
    {
      "cell_type": "code",
      "metadata": {
        "id": "GprcCIL121Su",
        "colab_type": "code",
        "colab": {
          "base_uri": "https://localhost:8080/",
          "height": 187
        },
        "outputId": "5432fb35-f0cc-4631-8254-b447fd42882e"
      },
      "source": [
        "a = np.linspace(1,10)\n",
        "a"
      ],
      "execution_count": 20,
      "outputs": [
        {
          "output_type": "execute_result",
          "data": {
            "text/plain": [
              "array([ 1.        ,  1.18367347,  1.36734694,  1.55102041,  1.73469388,\n",
              "        1.91836735,  2.10204082,  2.28571429,  2.46938776,  2.65306122,\n",
              "        2.83673469,  3.02040816,  3.20408163,  3.3877551 ,  3.57142857,\n",
              "        3.75510204,  3.93877551,  4.12244898,  4.30612245,  4.48979592,\n",
              "        4.67346939,  4.85714286,  5.04081633,  5.2244898 ,  5.40816327,\n",
              "        5.59183673,  5.7755102 ,  5.95918367,  6.14285714,  6.32653061,\n",
              "        6.51020408,  6.69387755,  6.87755102,  7.06122449,  7.24489796,\n",
              "        7.42857143,  7.6122449 ,  7.79591837,  7.97959184,  8.16326531,\n",
              "        8.34693878,  8.53061224,  8.71428571,  8.89795918,  9.08163265,\n",
              "        9.26530612,  9.44897959,  9.63265306,  9.81632653, 10.        ])"
            ]
          },
          "metadata": {
            "tags": []
          },
          "execution_count": 20
        }
      ]
    },
    {
      "cell_type": "markdown",
      "metadata": {
        "id": "Pje3xFpj28xC",
        "colab_type": "text"
      },
      "source": [
        "eye() return ndarray(n,m) here n is for rows and m is for coloumns identity() it is similar to eye()function. The identity array is a sqare array."
      ]
    },
    {
      "cell_type": "code",
      "metadata": {
        "id": "DG6XeJHu29pX",
        "colab_type": "code",
        "colab": {
          "base_uri": "https://localhost:8080/",
          "height": 102
        },
        "outputId": "3aa2e55a-5add-4db7-cf14-f210f0e212cc"
      },
      "source": [
        "np.eye(5,dtype='int')"
      ],
      "execution_count": 21,
      "outputs": [
        {
          "output_type": "execute_result",
          "data": {
            "text/plain": [
              "array([[1, 0, 0, 0, 0],\n",
              "       [0, 1, 0, 0, 0],\n",
              "       [0, 0, 1, 0, 0],\n",
              "       [0, 0, 0, 1, 0],\n",
              "       [0, 0, 0, 0, 1]])"
            ]
          },
          "metadata": {
            "tags": []
          },
          "execution_count": 21
        }
      ]
    },
    {
      "cell_type": "code",
      "metadata": {
        "id": "ZzK0QIAG3DlS",
        "colab_type": "code",
        "colab": {
          "base_uri": "https://localhost:8080/",
          "height": 102
        },
        "outputId": "9ce1111b-672d-4382-e496-9d80e875c7c1"
      },
      "source": [
        "np.identity(5,dtype='int')"
      ],
      "execution_count": 22,
      "outputs": [
        {
          "output_type": "execute_result",
          "data": {
            "text/plain": [
              "array([[1, 0, 0, 0, 0],\n",
              "       [0, 1, 0, 0, 0],\n",
              "       [0, 0, 1, 0, 0],\n",
              "       [0, 0, 0, 1, 0],\n",
              "       [0, 0, 0, 0, 1]])"
            ]
          },
          "metadata": {
            "tags": []
          },
          "execution_count": 22
        }
      ]
    },
    {
      "cell_type": "markdown",
      "metadata": {
        "id": "VXc33kjS3IZF",
        "colab_type": "text"
      },
      "source": [
        "random() rand() uniformly distributed values"
      ]
    },
    {
      "cell_type": "code",
      "metadata": {
        "id": "M-Q1aOxt3JLw",
        "colab_type": "code",
        "colab": {
          "base_uri": "https://localhost:8080/",
          "height": 102
        },
        "outputId": "442f1ec0-f7a5-4196-bfa2-8c55b6a434ac"
      },
      "source": [
        "np.random.rand(5,2)"
      ],
      "execution_count": 23,
      "outputs": [
        {
          "output_type": "execute_result",
          "data": {
            "text/plain": [
              "array([[0.2856483 , 0.7083231 ],\n",
              "       [0.68421049, 0.44360466],\n",
              "       [0.74537777, 0.00375155],\n",
              "       [0.11789158, 0.18769714],\n",
              "       [0.90547076, 0.9111055 ]])"
            ]
          },
          "metadata": {
            "tags": []
          },
          "execution_count": 23
        }
      ]
    },
    {
      "cell_type": "markdown",
      "metadata": {
        "id": "P-55xxcn3Pwj",
        "colab_type": "text"
      },
      "source": [
        "randn() normaly distributed values"
      ]
    },
    {
      "cell_type": "code",
      "metadata": {
        "id": "x-sxhaa_3Qtf",
        "colab_type": "code",
        "colab": {
          "base_uri": "https://localhost:8080/",
          "height": 187
        },
        "outputId": "b1130c27-55fe-4420-dacc-f8507d2a07bd"
      },
      "source": [
        "np.random.randn(5,4)"
      ],
      "execution_count": 24,
      "outputs": [
        {
          "output_type": "execute_result",
          "data": {
            "text/plain": [
              "array([[ 6.78511242e-01,  4.82186098e-01,  7.76196673e-01,\n",
              "        -1.20530330e-03],\n",
              "       [ 2.48513632e-01, -2.78063531e-01, -3.20631640e-01,\n",
              "        -6.93065411e-01],\n",
              "       [ 1.42639397e+00,  6.38086794e-01, -2.76692758e-01,\n",
              "        -1.62899885e+00],\n",
              "       [ 2.98574553e-01,  1.38743106e-01, -2.04914637e+00,\n",
              "         1.42771777e+00],\n",
              "       [ 1.07825646e+00, -6.62651228e-02, -3.04815170e-01,\n",
              "        -6.40788624e-01]])"
            ]
          },
          "metadata": {
            "tags": []
          },
          "execution_count": 24
        }
      ]
    },
    {
      "cell_type": "markdown",
      "metadata": {
        "id": "6mMQpo7M3WCv",
        "colab_type": "text"
      },
      "source": [
        "randint() uniformly distributed integers in a given range"
      ]
    },
    {
      "cell_type": "code",
      "metadata": {
        "id": "1OOqTLHE3XHk",
        "colab_type": "code",
        "colab": {
          "base_uri": "https://localhost:8080/",
          "height": 34
        },
        "outputId": "cefa2862-d69f-4af1-a9b7-3a7c7f50e814"
      },
      "source": [
        "np.random.randint(10,size=5)"
      ],
      "execution_count": 25,
      "outputs": [
        {
          "output_type": "execute_result",
          "data": {
            "text/plain": [
              "array([7, 4, 7, 9, 3])"
            ]
          },
          "metadata": {
            "tags": []
          },
          "execution_count": 25
        }
      ]
    },
    {
      "cell_type": "code",
      "metadata": {
        "id": "jHUt1DXI3ejs",
        "colab_type": "code",
        "colab": {
          "base_uri": "https://localhost:8080/",
          "height": 51
        },
        "outputId": "fdcb6800-c6dc-4ca5-daa3-5034f501f870"
      },
      "source": [
        "np.random.randint(2,5,size=(2,5))"
      ],
      "execution_count": 26,
      "outputs": [
        {
          "output_type": "execute_result",
          "data": {
            "text/plain": [
              "array([[4, 3, 2, 4, 4],\n",
              "       [3, 2, 2, 3, 4]])"
            ]
          },
          "metadata": {
            "tags": []
          },
          "execution_count": 26
        }
      ]
    },
    {
      "cell_type": "markdown",
      "metadata": {
        "id": "LPK2l_ge3iHf",
        "colab_type": "text"
      },
      "source": [
        "randf() uniformly distributed floating point"
      ]
    },
    {
      "cell_type": "code",
      "metadata": {
        "id": "WNqheOBj3lJ6",
        "colab_type": "code",
        "colab": {
          "base_uri": "https://localhost:8080/",
          "height": 34
        },
        "outputId": "a3eb9c96-5bc3-419b-eeaf-60f6a4cf6220"
      },
      "source": [
        "np.random.ranf(5)"
      ],
      "execution_count": 27,
      "outputs": [
        {
          "output_type": "execute_result",
          "data": {
            "text/plain": [
              "array([0.25844512, 0.7065191 , 0.26072965, 0.61185801, 0.06769509])"
            ]
          },
          "metadata": {
            "tags": []
          },
          "execution_count": 27
        }
      ]
    }
  ]
}