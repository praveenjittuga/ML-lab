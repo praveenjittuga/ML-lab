{
  "nbformat": 4,
  "nbformat_minor": 0,
  "metadata": {
    "colab": {
      "name": "Python Practice.ipynb",
      "provenance": [],
      "authorship_tag": "ABX9TyNDcNJ3UM1qYUnVNRZp9SIF",
      "include_colab_link": true
    },
    "kernelspec": {
      "name": "python3",
      "display_name": "Python 3"
    }
  },
  "cells": [
    {
      "cell_type": "markdown",
      "metadata": {
        "id": "view-in-github",
        "colab_type": "text"
      },
      "source": [
        "<a href=\"https://colab.research.google.com/github/praveenjittuga/ML-lab/blob/master/Python_Practice.ipynb\" target=\"_parent\"><img src=\"https://colab.research.google.com/assets/colab-badge.svg\" alt=\"Open In Colab\"/></a>"
      ]
    },
    {
      "cell_type": "code",
      "metadata": {
        "id": "xZfQjvuVRkQA",
        "colab_type": "code",
        "outputId": "6b37a802-f0bf-49a4-cf86-6cfc9496a22d",
        "colab": {
          "base_uri": "https://localhost:8080/",
          "height": 34
        }
      },
      "source": [
        "print(\"hello world\")"
      ],
      "execution_count": 0,
      "outputs": [
        {
          "output_type": "stream",
          "text": [
            "hello world\n"
          ],
          "name": "stdout"
        }
      ]
    },
    {
      "cell_type": "markdown",
      "metadata": {
        "id": "9_TsvXUxSg8U",
        "colab_type": "text"
      },
      "source": [
        "my first python program"
      ]
    },
    {
      "cell_type": "code",
      "metadata": {
        "id": "mX16joT7Snko",
        "colab_type": "code",
        "colab": {
          "base_uri": "https://localhost:8080/",
          "height": 136
        },
        "outputId": "2358edbf-247e-4be7-97b0-1ba44a8ffd20"
      },
      "source": [
        "\n",
        "n1=int(input(\"enter n1 value:\"))\n",
        "n2=int(input(\"enter n2 vlaue:\"))\n",
        "sum=n1+n2\n",
        "mul=n1*n2\n",
        "div=n1/n2\n",
        "sub=n1-n2\n",
        "modulo=n1%n2\n",
        "print(\"the sum of two numbers is:\",sum)\n",
        "print(\"the mulitplication of two numbers is:\",mul)\n",
        "print(\"the division of two numbers is:\",div)\n",
        "print(\"the subtraction of two numbers is:\",sub)\n",
        "print(\"the modulodivision of two numbers is:\",modulo)"
      ],
      "execution_count": 1,
      "outputs": [
        {
          "output_type": "stream",
          "text": [
            "enter n1 value:4\n",
            "enter n2 vlaue:6\n",
            "the sum of two numbers is: 10\n",
            "the mulitplication of two numbers is: 24\n",
            "the division of two numbers is: 0.6666666666666666\n",
            "the subtraction of two numbers is: -2\n",
            "the modulodivision of two numbers is: 4\n"
          ],
          "name": "stdout"
        }
      ]
    },
    {
      "cell_type": "code",
      "metadata": {
        "id": "LGd35XoLBmnN",
        "colab_type": "code",
        "colab": {
          "base_uri": "https://localhost:8080/",
          "height": 68
        },
        "outputId": "44754a0d-d2f8-4e94-c1e6-475601affbdc"
      },
      "source": [
        "n1=int(input(\"enter n1 vlaue\"))\n",
        "n2=int(input(\"enter n2 vlaue\"))\n",
        "if n1==10:\n",
        "  print(\"enter number is equal to n1:\")\n",
        "elif n2==20:\n",
        "  print(\"enter number is equal to n2:\")\n",
        "else:\n",
        "  print(\"enter nubers are not equal to given numbers\")\n"
      ],
      "execution_count": 4,
      "outputs": [
        {
          "output_type": "stream",
          "text": [
            "enter n1 vlaue10\n",
            "enter n2 vlaue20\n",
            "enter number is equal to n1:\n"
          ],
          "name": "stdout"
        }
      ]
    },
    {
      "cell_type": "code",
      "metadata": {
        "id": "2RjD7LeQC4RV",
        "colab_type": "code",
        "colab": {
          "base_uri": "https://localhost:8080/",
          "height": 187
        },
        "outputId": "26fef9f7-51fc-44e7-c385-0d3f098d2d06"
      },
      "source": [
        "praveen=[10,20,30,50,60]\n",
        "for x in praveen:\n",
        "  print(\"The value of x=\",x)\n",
        "  y=x+40\n",
        "  print(\"The value of y=\",y)"
      ],
      "execution_count": 14,
      "outputs": [
        {
          "output_type": "stream",
          "text": [
            "The value of x= 10\n",
            "The value of y= 50\n",
            "The value of x= 20\n",
            "The value of y= 60\n",
            "The value of x= 30\n",
            "The value of y= 70\n",
            "The value of x= 50\n",
            "The value of y= 90\n",
            "The value of x= 60\n",
            "The value of y= 100\n"
          ],
          "name": "stdout"
        }
      ]
    },
    {
      "cell_type": "code",
      "metadata": {
        "id": "N5UP41XDDP96",
        "colab_type": "code",
        "colab": {
          "base_uri": "https://localhost:8080/",
          "height": 357
        },
        "outputId": "3fad96e6-6015-4edc-ce16-3c4bcf7d921c"
      },
      "source": [
        "for i in range(20):\n",
        "  print(i)\n"
      ],
      "execution_count": 7,
      "outputs": [
        {
          "output_type": "stream",
          "text": [
            "0\n",
            "1\n",
            "2\n",
            "3\n",
            "4\n",
            "5\n",
            "6\n",
            "7\n",
            "8\n",
            "9\n",
            "10\n",
            "11\n",
            "12\n",
            "13\n",
            "14\n",
            "15\n",
            "16\n",
            "17\n",
            "18\n",
            "19\n"
          ],
          "name": "stdout"
        }
      ]
    },
    {
      "cell_type": "code",
      "metadata": {
        "id": "QUZOH_ieEMnF",
        "colab_type": "code",
        "colab": {
          "base_uri": "https://localhost:8080/",
          "height": 357
        },
        "outputId": "63bbaa8e-95c6-4ba5-96f6-2743c6f4fbd0"
      },
      "source": [
        "x=int(input(\"enter a number\"))\n",
        "while x<=20:\n",
        "  print(x)\n",
        "  x=x+1"
      ],
      "execution_count": 11,
      "outputs": [
        {
          "output_type": "stream",
          "text": [
            "enter a number2\n",
            "2\n",
            "3\n",
            "4\n",
            "5\n",
            "6\n",
            "7\n",
            "8\n",
            "9\n",
            "10\n",
            "11\n",
            "12\n",
            "13\n",
            "14\n",
            "15\n",
            "16\n",
            "17\n",
            "18\n",
            "19\n",
            "20\n"
          ],
          "name": "stdout"
        }
      ]
    },
    {
      "cell_type": "code",
      "metadata": {
        "id": "X0RJk2TJES1K",
        "colab_type": "code",
        "colab": {
          "base_uri": "https://localhost:8080/",
          "height": 119
        },
        "outputId": "d24d90f0-84a6-40f6-f8f9-94ffe70c8daa"
      },
      "source": [
        "praveen=['sunil','chandu','sai','sagar','Satya','Raj']\n",
        "for x in praveen:\n",
        "  print(x)"
      ],
      "execution_count": 12,
      "outputs": [
        {
          "output_type": "stream",
          "text": [
            "sunil\n",
            "chandu\n",
            "sai\n",
            "sagar\n",
            "Satya\n",
            "Raj\n"
          ],
          "name": "stdout"
        }
      ]
    },
    {
      "cell_type": "code",
      "metadata": {
        "id": "xGPeB6E4EqM1",
        "colab_type": "code",
        "colab": {
          "base_uri": "https://localhost:8080/",
          "height": 51
        },
        "outputId": "2bebdb1a-97be-4a56-ea83-d84c2416cdf0"
      },
      "source": [
        "pi=3.14\n",
        "r=int(input(\"enter the radius of the circle:\"))\n",
        "area=pi*r*r\n",
        "area=print(\"area of the circle is:\",area)"
      ],
      "execution_count": 13,
      "outputs": [
        {
          "output_type": "stream",
          "text": [
            "enter the radius of the circle:4\n",
            "area of the circle is: 50.24\n"
          ],
          "name": "stdout"
        }
      ]
    },
    {
      "cell_type": "code",
      "metadata": {
        "id": "5TTOwsfNGBv6",
        "colab_type": "code",
        "colab": {
          "base_uri": "https://localhost:8080/",
          "height": 68
        },
        "outputId": "5576fc2e-a18b-46d1-f18e-77e0c6253225"
      },
      "source": [
        "n1=int(input(\"enter n1 value:\"))\n",
        "n2=int(input(\"enter n2 vlaue:\"))\n",
        "n3=n1**n2\n",
        "print(\"the power of number is\",n3)\n"
      ],
      "execution_count": 1,
      "outputs": [
        {
          "output_type": "stream",
          "text": [
            "enter n1 value:2\n",
            "enter n2 vlaue:3\n",
            "the power of number is 8\n"
          ],
          "name": "stdout"
        }
      ]
    }
  ]
}